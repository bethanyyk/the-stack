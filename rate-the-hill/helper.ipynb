for i in range(1, 4):
    for j in range(1, 13):
        print('\'RA' + str(i) + '- 1_' + str(j) + '\', ', end = '')
