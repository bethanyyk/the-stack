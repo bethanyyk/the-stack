{
 "cells": [
  {
   "cell_type": "code",
   "execution_count": 2,
   "metadata": {},
   "outputs": [
    {
     "name": "stdout",
     "output_type": "stream",
     "text": [
      "'RA1- 1_1', 'RA1- 1_2', 'RA1- 1_3', 'RA1- 1_4', 'RA1- 1_5', 'RA1- 1_6', 'RA1- 1_7', 'RA1- 1_8', 'RA1- 1_9', 'RA1- 1_10', 'RA1- 1_11', 'RA1- 1_12', 'RA2- 1_1', 'RA2- 1_2', 'RA2- 1_3', 'RA2- 1_4', 'RA2- 1_5', 'RA2- 1_6', 'RA2- 1_7', 'RA2- 1_8', 'RA2- 1_9', 'RA2- 1_10', 'RA2- 1_11', 'RA2- 1_12', 'RA3- 1_1', 'RA3- 1_2', 'RA3- 1_3', 'RA3- 1_4', 'RA3- 1_5', 'RA3- 1_6', 'RA3- 1_7', 'RA3- 1_8', 'RA3- 1_9', 'RA3- 1_10', 'RA3- 1_11', 'RA3- 1_12', "
     ]
    }
   ],
   "source": [
    "for i in range(1, 4):\n",
    "    for j in range(1, 13):\n",
    "        print('\\'RA' + str(i) + '- 1_' + str(j) + '\\', ', end = '')"
   ]
  }
 ],
 "metadata": {
  "kernelspec": {
   "display_name": "Python 3",
   "language": "python",
   "name": "python3"
  },
  "language_info": {
   "codemirror_mode": {
    "name": "ipython",
    "version": 3
   },
   "file_extension": ".py",
   "mimetype": "text/x-python",
   "name": "python",
   "nbconvert_exporter": "python",
   "pygments_lexer": "ipython3",
   "version": "3.11.9"
  }
 },
 "nbformat": 4,
 "nbformat_minor": 2
}
